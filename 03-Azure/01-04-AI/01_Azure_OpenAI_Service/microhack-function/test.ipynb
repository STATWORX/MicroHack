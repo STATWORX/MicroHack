{
 "cells": [
  {
   "cell_type": "code",
   "execution_count": 1,
   "metadata": {},
   "outputs": [],
   "source": [
    "import logging\n",
    "from azure.keyvault.secrets import SecretClient\n",
    "from azure.identity import DefaultAzureCredential\n",
    "import openai\n",
    "from openai.embeddings_utils import get_embedding\n",
    "import chromadb\n",
    "from chromadb.config import Settings\n",
    "from openai.embeddings_utils import get_embedding"
   ]
  },
  {
   "cell_type": "code",
   "execution_count": 2,
   "metadata": {},
   "outputs": [],
   "source": [
    "credential = DefaultAzureCredential()\n",
    "# Retrieve secrets from Key Vault\n",
    "key_vault_name = \"microhack-key-vault\"\n",
    "key_vault_uri = f\"https://{key_vault_name}.vault.azure.net\"\n",
    "client = SecretClient(vault_url=key_vault_uri, credential=credential)\n",
    "logging.info(\"Retreiving secrets from Azure Key Vault.\")\n",
    "fm_api_key = client.get_secret(\"FORM-RECOGNIZER-KEY\").value\n",
    "fm_endpoint = client.get_secret(\"FORM-RECOGNIZER-ENDPOINT\").value\n",
    "\n",
    "# openai\n",
    "openai_api_key = client.get_secret(\"OPENAI-KEY\").value\n",
    "openai_endpoint = client.get_secret(\"OPENAI-ENDPOINT\").value\n",
    "\n",
    "# chroma\n",
    "chroma_address = client.get_secret(\"CHROMA-DB-ADDRESS\").value"
   ]
  },
  {
   "cell_type": "code",
   "execution_count": 3,
   "metadata": {},
   "outputs": [],
   "source": [
    "openai.api_type = \"azure\"\n",
    "openai.api_key = openai_api_key\n",
    "openai.api_base = openai_endpoint\n",
    "openai.api_version = \"2022-12-01\""
   ]
  },
  {
   "cell_type": "code",
   "execution_count": 4,
   "metadata": {},
   "outputs": [],
   "source": [
    "# Chroma Client\n",
    "client = chromadb.Client(Settings(chroma_api_impl=\"rest\",\n",
    "                                  chroma_server_host=chroma_address,\n",
    "                                  chroma_server_http_port=\"8000\"))"
   ]
  },
  {
   "cell_type": "code",
   "execution_count": 5,
   "metadata": {},
   "outputs": [
    {
     "data": {
      "text/plain": [
       "1680788221823651651000"
      ]
     },
     "execution_count": 5,
     "metadata": {},
     "output_type": "execute_result"
    }
   ],
   "source": [
    "# Ping Chroma\n",
    "client.heartbeat()"
   ]
  },
  {
   "cell_type": "code",
   "execution_count": 6,
   "metadata": {},
   "outputs": [
    {
     "name": "stderr",
     "output_type": "stream",
     "text": [
      "WARNING:chromadb.api.models.Collection:No embedding_function provided, using default embedding function: SentenceTransformerEmbeddingFunction\n"
     ]
    },
    {
     "data": {
      "text/plain": [
       "[Collection(name=microhack-collection)]"
      ]
     },
     "execution_count": 6,
     "metadata": {},
     "output_type": "execute_result"
    }
   ],
   "source": [
    "client.list_collections()"
   ]
  },
  {
   "cell_type": "code",
   "execution_count": 8,
   "metadata": {},
   "outputs": [
    {
     "name": "stderr",
     "output_type": "stream",
     "text": [
      "WARNING:chromadb.api.models.Collection:No embedding_function provided, using default embedding function: SentenceTransformerEmbeddingFunction\n"
     ]
    }
   ],
   "source": [
    "# get a collection\n",
    "collection = client.get_collection(\"microhack-collection\")"
   ]
  },
  {
   "cell_type": "code",
   "execution_count": 9,
   "metadata": {},
   "outputs": [
    {
     "data": {
      "text/plain": [
       "629"
      ]
     },
     "execution_count": 9,
     "metadata": {},
     "output_type": "execute_result"
    }
   ],
   "source": [
    "collection.count()"
   ]
  },
  {
   "cell_type": "code",
   "execution_count": 10,
   "metadata": {},
   "outputs": [
    {
     "data": {
      "text/plain": [
       "{'ids': [['id261', 'id511']],\n",
       " 'embeddings': None,\n",
       " 'documents': [['STATWORX is a consulting and development company for Data Science, Machine Learning and Al with headquarters in Frankfurt am Main and Zurich. We support organizations end-2-end in the data-driven optimization of their products, services and processes. Thereby, we draw on a wealth of experience from more than 200 cross-industry and cross-functional Al strategy and development projects, from which you benefit in terms of best practices and experience.',\n",
       "   'STATWORX is a consulting and development company for Data Science, Machine Learning and Al with headquarters in Frankfurt am Main and Zurich. We support organizations end-2-end in the data-driven optimization of their products, services and processes. Thereby, we draw on a wealth of experience from more than 200 cross-industry and cross-functional Al strategy and development projects, from which you benefit in terms of best practices and experience.']],\n",
       " 'metadatas': None,\n",
       " 'distances': None}"
      ]
     },
     "execution_count": 10,
     "metadata": {},
     "output_type": "execute_result"
    }
   ],
   "source": [
    "question = \"What is statworx?\"\n",
    "query_embedding = get_embedding(question, engine=\"microhack-ada-text-embedding\")\n",
    "\n",
    "collection.query(\n",
    "    query_embeddings=[query_embedding],\n",
    "    n_results=2,\n",
    "    include=[\"documents\"]\n",
    ")"
   ]
  },
  {
   "cell_type": "code",
   "execution_count": null,
   "metadata": {},
   "outputs": [],
   "source": [
    "# Delete a Collection \n",
    "#client.delete_collection(<collection_name>)"
   ]
  },
  {
   "cell_type": "code",
   "execution_count": null,
   "metadata": {},
   "outputs": [],
   "source": []
  }
 ],
 "metadata": {
  "kernelspec": {
   "display_name": ".venv",
   "language": "python",
   "name": "python3"
  },
  "language_info": {
   "codemirror_mode": {
    "name": "ipython",
    "version": 3
   },
   "file_extension": ".py",
   "mimetype": "text/x-python",
   "name": "python",
   "nbconvert_exporter": "python",
   "pygments_lexer": "ipython3",
   "version": "3.8.10"
  },
  "orig_nbformat": 4
 },
 "nbformat": 4,
 "nbformat_minor": 2
}
